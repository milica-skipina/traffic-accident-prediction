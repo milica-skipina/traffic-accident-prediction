{
 "cells": [
  {
   "cell_type": "code",
   "execution_count": 22,
   "metadata": {},
   "outputs": [],
   "source": [
    "import ipynb_setup\n",
    "\n",
    "from src.model.lgbm import LGBM\n",
    "from src.data_loader.data_loader import Dataset\n",
    "import joblib\n",
    "import pandas as pd\n",
    "from matplotlib import pyplot as plt\n",
    "import seaborn as sns"
   ]
  },
  {
   "cell_type": "code",
   "execution_count": 17,
   "metadata": {},
   "outputs": [],
   "source": [
    "def bar_plot_column(df, name):\n",
    "    plt.figure(figsize = (8,10))\n",
    "    sns.countplot(y=name, data=df, order=df[name].value_counts().index)\n",
    "    plt.title('Count of ' + name)\n",
    "    plt.ylabel(name)\n",
    "    plt.xlabel('Count')\n",
    "    plt.show()"
   ]
  },
  {
   "cell_type": "code",
   "execution_count": 91,
   "metadata": {},
   "outputs": [],
   "source": [
    "dataset_path = '../data/processed/merged_data.csv'\n",
    "data = pd.read_csv(dataset_path)"
   ]
  },
  {
   "cell_type": "code",
   "execution_count": 72,
   "metadata": {
    "scrolled": true
   },
   "outputs": [
    {
     "data": {
      "text/html": [
       "<div>\n",
       "<style scoped>\n",
       "    .dataframe tbody tr th:only-of-type {\n",
       "        vertical-align: middle;\n",
       "    }\n",
       "\n",
       "    .dataframe tbody tr th {\n",
       "        vertical-align: top;\n",
       "    }\n",
       "\n",
       "    .dataframe thead th {\n",
       "        text-align: right;\n",
       "    }\n",
       "</style>\n",
       "<table border=\"1\" class=\"dataframe\">\n",
       "  <thead>\n",
       "    <tr style=\"text-align: right;\">\n",
       "      <th></th>\n",
       "      <th>CRASH DATE</th>\n",
       "      <th>CRASH TIME</th>\n",
       "      <th>BOROUGH</th>\n",
       "      <th>ZIP CODE</th>\n",
       "      <th>LATITUDE</th>\n",
       "      <th>LONGITUDE</th>\n",
       "      <th>ON STREET NAME</th>\n",
       "      <th>HOUR</th>\n",
       "      <th>Temperature</th>\n",
       "      <th>FeelsLike</th>\n",
       "      <th>...</th>\n",
       "      <th>XFrom</th>\n",
       "      <th>YFrom</th>\n",
       "      <th>XTo</th>\n",
       "      <th>YTo</th>\n",
       "      <th>POSTED_SPEED</th>\n",
       "      <th>Snow_Priority</th>\n",
       "      <th>Number_Travel_Lanes</th>\n",
       "      <th>Number_Park_Lanes</th>\n",
       "      <th>Number_Total_Lanes</th>\n",
       "      <th>TRUCK_ROUTE_TYPE</th>\n",
       "    </tr>\n",
       "  </thead>\n",
       "  <tbody>\n",
       "    <tr>\n",
       "      <th>0</th>\n",
       "      <td>2019-11-24</td>\n",
       "      <td>20:00</td>\n",
       "      <td>MANHATTAN</td>\n",
       "      <td>10006</td>\n",
       "      <td>40.70983</td>\n",
       "      <td>-74.01468</td>\n",
       "      <td>WEST STREET</td>\n",
       "      <td>20</td>\n",
       "      <td>43</td>\n",
       "      <td>35.0</td>\n",
       "      <td>...</td>\n",
       "      <td>980163</td>\n",
       "      <td>197889</td>\n",
       "      <td>980205</td>\n",
       "      <td>198078</td>\n",
       "      <td>30</td>\n",
       "      <td>C</td>\n",
       "      <td>2</td>\n",
       "      <td>0</td>\n",
       "      <td>2</td>\n",
       "      <td>3.0</td>\n",
       "    </tr>\n",
       "    <tr>\n",
       "      <th>1</th>\n",
       "      <td>2019-09-30</td>\n",
       "      <td>18:00</td>\n",
       "      <td>MANHATTAN</td>\n",
       "      <td>10006</td>\n",
       "      <td>40.70983</td>\n",
       "      <td>-74.01468</td>\n",
       "      <td>WEST STREET</td>\n",
       "      <td>18</td>\n",
       "      <td>67</td>\n",
       "      <td>67.0</td>\n",
       "      <td>...</td>\n",
       "      <td>980163</td>\n",
       "      <td>197889</td>\n",
       "      <td>980205</td>\n",
       "      <td>198078</td>\n",
       "      <td>30</td>\n",
       "      <td>C</td>\n",
       "      <td>2</td>\n",
       "      <td>0</td>\n",
       "      <td>2</td>\n",
       "      <td>3.0</td>\n",
       "    </tr>\n",
       "    <tr>\n",
       "      <th>2</th>\n",
       "      <td>2019-09-03</td>\n",
       "      <td>21:06</td>\n",
       "      <td>MANHATTAN</td>\n",
       "      <td>10006</td>\n",
       "      <td>40.70983</td>\n",
       "      <td>-74.01468</td>\n",
       "      <td>WEST STREET</td>\n",
       "      <td>21</td>\n",
       "      <td>74</td>\n",
       "      <td>74.0</td>\n",
       "      <td>...</td>\n",
       "      <td>980163</td>\n",
       "      <td>197889</td>\n",
       "      <td>980205</td>\n",
       "      <td>198078</td>\n",
       "      <td>30</td>\n",
       "      <td>C</td>\n",
       "      <td>2</td>\n",
       "      <td>0</td>\n",
       "      <td>2</td>\n",
       "      <td>3.0</td>\n",
       "    </tr>\n",
       "    <tr>\n",
       "      <th>3</th>\n",
       "      <td>2019-09-14</td>\n",
       "      <td>18:00</td>\n",
       "      <td>MANHATTAN</td>\n",
       "      <td>10006</td>\n",
       "      <td>40.70983</td>\n",
       "      <td>-74.01468</td>\n",
       "      <td>WEST STREET</td>\n",
       "      <td>18</td>\n",
       "      <td>74</td>\n",
       "      <td>74.0</td>\n",
       "      <td>...</td>\n",
       "      <td>980163</td>\n",
       "      <td>197889</td>\n",
       "      <td>980205</td>\n",
       "      <td>198078</td>\n",
       "      <td>30</td>\n",
       "      <td>C</td>\n",
       "      <td>2</td>\n",
       "      <td>0</td>\n",
       "      <td>2</td>\n",
       "      <td>3.0</td>\n",
       "    </tr>\n",
       "    <tr>\n",
       "      <th>4</th>\n",
       "      <td>2018-04-19</td>\n",
       "      <td>8:59</td>\n",
       "      <td>MANHATTAN</td>\n",
       "      <td>10006</td>\n",
       "      <td>40.70983</td>\n",
       "      <td>-74.01468</td>\n",
       "      <td>WEST STREET</td>\n",
       "      <td>8</td>\n",
       "      <td>46</td>\n",
       "      <td>40.0</td>\n",
       "      <td>...</td>\n",
       "      <td>980163</td>\n",
       "      <td>197889</td>\n",
       "      <td>980205</td>\n",
       "      <td>198078</td>\n",
       "      <td>30</td>\n",
       "      <td>C</td>\n",
       "      <td>2</td>\n",
       "      <td>0</td>\n",
       "      <td>2</td>\n",
       "      <td>3.0</td>\n",
       "    </tr>\n",
       "  </tbody>\n",
       "</table>\n",
       "<p>5 rows × 33 columns</p>\n",
       "</div>"
      ],
      "text/plain": [
       "   CRASH DATE CRASH TIME    BOROUGH ZIP CODE  LATITUDE  LONGITUDE  \\\n",
       "0  2019-11-24      20:00  MANHATTAN    10006  40.70983  -74.01468   \n",
       "1  2019-09-30      18:00  MANHATTAN    10006  40.70983  -74.01468   \n",
       "2  2019-09-03      21:06  MANHATTAN    10006  40.70983  -74.01468   \n",
       "3  2019-09-14      18:00  MANHATTAN    10006  40.70983  -74.01468   \n",
       "4  2018-04-19       8:59  MANHATTAN    10006  40.70983  -74.01468   \n",
       "\n",
       "  ON STREET NAME  HOUR  Temperature  FeelsLike  ...   XFrom   YFrom     XTo  \\\n",
       "0    WEST STREET    20           43       35.0  ...  980163  197889  980205   \n",
       "1    WEST STREET    18           67       67.0  ...  980163  197889  980205   \n",
       "2    WEST STREET    21           74       74.0  ...  980163  197889  980205   \n",
       "3    WEST STREET    18           74       74.0  ...  980163  197889  980205   \n",
       "4    WEST STREET     8           46       40.0  ...  980163  197889  980205   \n",
       "\n",
       "      YTo  POSTED_SPEED  Snow_Priority  Number_Travel_Lanes Number_Park_Lanes  \\\n",
       "0  198078            30              C                    2                 0   \n",
       "1  198078            30              C                    2                 0   \n",
       "2  198078            30              C                    2                 0   \n",
       "3  198078            30              C                    2                 0   \n",
       "4  198078            30              C                    2                 0   \n",
       "\n",
       "  Number_Total_Lanes  TRUCK_ROUTE_TYPE  \n",
       "0                  2               3.0  \n",
       "1                  2               3.0  \n",
       "2                  2               3.0  \n",
       "3                  2               3.0  \n",
       "4                  2               3.0  \n",
       "\n",
       "[5 rows x 33 columns]"
      ]
     },
     "execution_count": 72,
     "metadata": {},
     "output_type": "execute_result"
    }
   ],
   "source": [
    "data.head()"
   ]
  },
  {
   "cell_type": "code",
   "execution_count": 92,
   "metadata": {
    "scrolled": true
   },
   "outputs": [
    {
     "data": {
      "text/plain": [
       "CLD    637604\n",
       "RD      75681\n",
       "LVS     14050\n",
       "Name: Condition, dtype: int64"
      ]
     },
     "execution_count": 92,
     "metadata": {},
     "output_type": "execute_result"
    }
   ],
   "source": [
    "# CLOUDY\n",
    "for cloudy in ['Mostly Cloudy', 'Cloudy', 'Fair', 'Partly Cloudy', 'Mostly Cloudy / Windy',\n",
    "               'Fair / Windy', 'Partly Cloudy / Windy','Cloudy / Windy',]:\n",
    "    data['Condition'] = data['Condition'].replace(cloudy, 'CLD')\n",
    "\n",
    "    \n",
    "# LOWER VISIBILITY / NERVOUS\n",
    "for low_visibility in ['Fog', 'Haze', 'Thunder', 'T-Storm', 'Heavy T-Storm', 'Thunder in the Vicinity',\n",
    "                       'Drizzle and Fog', 'Patches of Fog', 'Heavy T-Storm / Windy', 'Thunder / Windy',\n",
    "                       'Fog / Windy', 'T-Storm / Windy', 'Drizzle and Fog / Windy', 'Haze / Windy', \n",
    "                       'Shallow Fog',]:\n",
    "        data['Condition'] = data['Condition'].replace(low_visibility, 'LVS')\n",
    "\n",
    "# ROAD\n",
    "for road_condition in ['Light Rain', 'Light Snow', 'Rain', 'Light Rain / Windy', 'Light Drizzle', \n",
    "             'Heavy Rain', 'Snow', 'Rain / Windy', 'Light Rain with Thunder', 'Light Snow / Windy',\n",
    "             'Wintry Mix', 'Wintry Mix / Windy', 'Snow / Windy', 'Light Drizzle / Windy',\n",
    "             'Rain / Freezing Rain', 'Heavy Rain / Windy', 'Heavy Snow', 'Heavy Snow / Windy',\n",
    "             'Snow and Sleet', 'Light Freezing Rain', 'Light Sleet', 'Rain and Snow', 'Light Snow and Sleet',\n",
    "             'Rain and Sleet', 'Rain and Snow / Windy', 'Blowing Snow / Windy', 'Rain and Sleet / Windy',\n",
    "             'Snow and Sleet / Windy', 'Sleet', 'Rain / Freezing Rain / Windy', 'Light Freezing Drizzle',\n",
    "             'Small Hail', 'Light Sleet / Windy', 'Sleet / Windy', 'T-Storm', 'Heavy T-Storm','T-Storm / Windy',\n",
    "             'Sleet / Windy','Unknown Precipitation']:\n",
    "    \n",
    "    data['Condition'] = data['Condition'].replace(road_condition, 'RD')\n",
    "\n",
    "\n",
    "data['Condition'].value_counts()"
   ]
  },
  {
   "cell_type": "code",
   "execution_count": 96,
   "metadata": {},
   "outputs": [],
   "source": [
    "data['BOROUGH'] = data['BOROUGH'].str.strip()\n",
    "data['Condition'] = data['Condition'].str.strip()\n",
    "data['Day/Night'] = data['Day/Night'].str.strip()\n",
    "data['Clouds'] = data['Clouds'].str.strip()\n",
    "data['Snow_Priority'] = data['Snow_Priority'].str.strip()"
   ]
  },
  {
   "cell_type": "code",
   "execution_count": 97,
   "metadata": {},
   "outputs": [
    {
     "name": "stdout",
     "output_type": "stream",
     "text": [
      "<class 'pandas.core.frame.DataFrame'>\n",
      "RangeIndex: 727335 entries, 0 to 727334\n",
      "Data columns (total 33 columns):\n",
      " #   Column               Non-Null Count   Dtype  \n",
      "---  ------               --------------   -----  \n",
      " 0   CRASH DATE           727335 non-null  object \n",
      " 1   CRASH TIME           727335 non-null  object \n",
      " 2   BOROUGH              727335 non-null  object \n",
      " 3   ZIP CODE             727335 non-null  object \n",
      " 4   LATITUDE             727335 non-null  float64\n",
      " 5   LONGITUDE            727335 non-null  float64\n",
      " 6   ON STREET NAME       727335 non-null  object \n",
      " 7   HOUR                 727335 non-null  int64  \n",
      " 8   Temperature          727335 non-null  int64  \n",
      " 9   FeelsLike            727335 non-null  float64\n",
      " 10  Dew                  727335 non-null  float64\n",
      " 11  Humidity             727335 non-null  int64  \n",
      " 12  Wind                 727335 non-null  object \n",
      " 13  WindSpeed            727335 non-null  float64\n",
      " 14  Pressure             727335 non-null  float64\n",
      " 15  Precip.              727335 non-null  float64\n",
      " 16  Condition            727335 non-null  object \n",
      " 17  Day/Night            727335 non-null  object \n",
      " 18  Clouds               727335 non-null  object \n",
      " 19  SEVERITY             727335 non-null  int64  \n",
      " 20  geometry             727335 non-null  object \n",
      " 21  NonPed               7313 non-null    object \n",
      " 22  StreetWidth_Min      727335 non-null  float64\n",
      " 23  XFrom                727335 non-null  int64  \n",
      " 24  YFrom                727335 non-null  int64  \n",
      " 25  XTo                  727335 non-null  int64  \n",
      " 26  YTo                  727335 non-null  int64  \n",
      " 27  POSTED_SPEED         727335 non-null  int64  \n",
      " 28  Snow_Priority        726563 non-null  object \n",
      " 29  Number_Travel_Lanes  727335 non-null  int64  \n",
      " 30  Number_Park_Lanes    727335 non-null  int64  \n",
      " 31  Number_Total_Lanes   727335 non-null  int64  \n",
      " 32  TRUCK_ROUTE_TYPE     255979 non-null  float64\n",
      "dtypes: float64(9), int64(12), object(12)\n",
      "memory usage: 183.1+ MB\n"
     ]
    }
   ],
   "source": [
    "data.info()"
   ]
  },
  {
   "cell_type": "code",
   "execution_count": 94,
   "metadata": {},
   "outputs": [
    {
     "data": {
      "text/plain": [
       "['CRASH DATE',\n",
       " 'CRASH TIME',\n",
       " 'BOROUGH',\n",
       " 'ZIP CODE',\n",
       " 'LATITUDE',\n",
       " 'LONGITUDE',\n",
       " 'ON STREET NAME',\n",
       " 'HOUR',\n",
       " 'Temperature',\n",
       " 'FeelsLike',\n",
       " 'Dew',\n",
       " 'Humidity',\n",
       " 'Wind',\n",
       " 'WindSpeed',\n",
       " 'Pressure',\n",
       " 'Precip.',\n",
       " 'Condition',\n",
       " 'Day/Night',\n",
       " 'Clouds',\n",
       " 'SEVERITY',\n",
       " 'geometry',\n",
       " 'NonPed',\n",
       " 'StreetWidth_Min',\n",
       " 'XFrom',\n",
       " 'YFrom',\n",
       " 'XTo',\n",
       " 'YTo',\n",
       " 'POSTED_SPEED',\n",
       " 'Snow_Priority',\n",
       " 'Number_Travel_Lanes',\n",
       " 'Number_Park_Lanes',\n",
       " 'Number_Total_Lanes',\n",
       " 'TRUCK_ROUTE_TYPE']"
      ]
     },
     "execution_count": 94,
     "metadata": {},
     "output_type": "execute_result"
    }
   ],
   "source": [
    "list(data.columns)"
   ]
  },
  {
   "cell_type": "code",
   "execution_count": 99,
   "metadata": {},
   "outputs": [],
   "source": [
    "data.to_csv('../data/processed/merged_data_2.csv', index=False)"
   ]
  },
  {
   "cell_type": "code",
   "execution_count": 4,
   "metadata": {
    "scrolled": true
   },
   "outputs": [
    {
     "name": "stdout",
     "output_type": "stream",
     "text": [
      "LGBMClassifier(boosting='gbdt', class_weight='balanced', learning_rate=0.7,\n",
      "               n_estimators=120, num_leaves=110, objective='multiclass',\n",
      "               random_state=42) 0.67959\n"
     ]
    }
   ],
   "source": [
    "model = joblib.load(\"../models/grid_model.pkl\")\n",
    "print(model.best_estimator_, model.best_score_)"
   ]
  },
  {
   "cell_type": "code",
   "execution_count": 5,
   "metadata": {},
   "outputs": [],
   "source": [
    "CATEGORICAL_FEATURES = [\"BOROUGH\", \"Wind\", \"Condition\", \"Clouds\", \"Day/Night\", \"Snow_Priority\"]\n",
    "dataset = Dataset('../data/processed/merged_data.csv', CATEGORICAL_FEATURES)"
   ]
  },
  {
   "cell_type": "code",
   "execution_count": 7,
   "metadata": {},
   "outputs": [
    {
     "name": "stderr",
     "output_type": "stream",
     "text": [
      "/home/djordje/anaconda3/lib/python3.8/site-packages/IPython/core/interactiveshell.py:3338: DtypeWarning: Columns (3) have mixed types.Specify dtype option on import or set low_memory=False.\n",
      "  if (await self.run_code(code, result,  async_=asy)):\n"
     ]
    }
   ],
   "source": [
    "x, x_test, y, y_test = dataset.clean_and_encode_data()"
   ]
  },
  {
   "cell_type": "code",
   "execution_count": 10,
   "metadata": {
    "scrolled": false
   },
   "outputs": [
    {
     "data": {
      "text/plain": [
       "['LATITUDE',\n",
       " 'LONGITUDE',\n",
       " 'HOUR',\n",
       " 'Temperature',\n",
       " 'FeelsLike',\n",
       " 'Dew',\n",
       " 'Humidity',\n",
       " 'WindSpeed',\n",
       " 'Pressure',\n",
       " 'Precip.',\n",
       " 'StreetWidth_Min',\n",
       " 'POSTED_SPEED',\n",
       " 'Number_Travel_Lanes',\n",
       " 'Number_Park_Lanes',\n",
       " 'Number_Total_Lanes',\n",
       " 'MINUTE',\n",
       " 'YEAR',\n",
       " 'MONTH',\n",
       " 'DOW',\n",
       " 'BOROUGH_BRONX',\n",
       " 'BOROUGH_BROOKLYN',\n",
       " 'BOROUGH_MANHATTAN',\n",
       " 'BOROUGH_QUEENS',\n",
       " 'BOROUGH_STATEN ISLAND',\n",
       " 'Wind_CALM',\n",
       " 'Wind_E',\n",
       " 'Wind_ENE',\n",
       " 'Wind_ESE',\n",
       " 'Wind_N',\n",
       " 'Wind_NE',\n",
       " 'Wind_NNE',\n",
       " 'Wind_NNW',\n",
       " 'Wind_NW',\n",
       " 'Wind_S',\n",
       " 'Wind_SE',\n",
       " 'Wind_SSE',\n",
       " 'Wind_SSW',\n",
       " 'Wind_SW',\n",
       " 'Wind_VAR',\n",
       " 'Wind_W',\n",
       " 'Wind_WNW',\n",
       " 'Wind_WSW',\n",
       " 'Condition_Blowing Snow / Windy',\n",
       " 'Condition_Cloudy',\n",
       " 'Condition_Cloudy / Windy',\n",
       " 'Condition_Drizzle and Fog',\n",
       " 'Condition_Drizzle and Fog / Windy',\n",
       " 'Condition_Fair',\n",
       " 'Condition_Fair / Windy',\n",
       " 'Condition_Fog',\n",
       " 'Condition_Fog / Windy',\n",
       " 'Condition_Haze',\n",
       " 'Condition_Haze / Windy',\n",
       " 'Condition_Heavy Rain',\n",
       " 'Condition_Heavy Rain / Windy',\n",
       " 'Condition_Heavy Snow',\n",
       " 'Condition_Heavy Snow / Windy',\n",
       " 'Condition_Heavy T-Storm',\n",
       " 'Condition_Heavy T-Storm / Windy',\n",
       " 'Condition_Light Drizzle',\n",
       " 'Condition_Light Drizzle / Windy',\n",
       " 'Condition_Light Freezing Drizzle',\n",
       " 'Condition_Light Freezing Rain',\n",
       " 'Condition_Light Rain',\n",
       " 'Condition_Light Rain / Windy',\n",
       " 'Condition_Light Rain with Thunder',\n",
       " 'Condition_Light Sleet',\n",
       " 'Condition_Light Sleet / Windy',\n",
       " 'Condition_Light Snow',\n",
       " 'Condition_Light Snow / Windy',\n",
       " 'Condition_Light Snow and Sleet',\n",
       " 'Condition_Mostly Cloudy',\n",
       " 'Condition_Mostly Cloudy / Windy',\n",
       " 'Condition_Partly Cloudy',\n",
       " 'Condition_Partly Cloudy / Windy',\n",
       " 'Condition_Patches of Fog',\n",
       " 'Condition_Rain',\n",
       " 'Condition_Rain / Freezing Rain',\n",
       " 'Condition_Rain / Freezing Rain / Windy',\n",
       " 'Condition_Rain / Windy',\n",
       " 'Condition_Rain and Sleet',\n",
       " 'Condition_Rain and Sleet / Windy',\n",
       " 'Condition_Rain and Snow',\n",
       " 'Condition_Rain and Snow / Windy',\n",
       " 'Condition_Shallow Fog',\n",
       " 'Condition_Sleet',\n",
       " 'Condition_Sleet / Windy',\n",
       " 'Condition_Small Hail',\n",
       " 'Condition_Snow',\n",
       " 'Condition_Snow / Windy',\n",
       " 'Condition_Snow and Sleet',\n",
       " 'Condition_Snow and Sleet / Windy',\n",
       " 'Condition_T-Storm',\n",
       " 'Condition_T-Storm / Windy',\n",
       " 'Condition_Thunder',\n",
       " 'Condition_Thunder / Windy',\n",
       " 'Condition_Thunder in the Vicinity',\n",
       " 'Condition_Unknown Precipitation',\n",
       " 'Condition_Wintry Mix',\n",
       " 'Condition_Wintry Mix / Windy',\n",
       " 'Clouds_BKN',\n",
       " 'Clouds_CLR',\n",
       " 'Clouds_FEW',\n",
       " 'Clouds_OVC',\n",
       " 'Clouds_SCT',\n",
       " 'Day/Night_D',\n",
       " 'Day/Night_N',\n",
       " 'Snow_Priority_C',\n",
       " 'Snow_Priority_H',\n",
       " 'Snow_Priority_S',\n",
       " 'Snow_Priority_V']"
      ]
     },
     "execution_count": 10,
     "metadata": {},
     "output_type": "execute_result"
    }
   ],
   "source": [
    "list(x.columns)"
   ]
  },
  {
   "cell_type": "code",
   "execution_count": 3,
   "metadata": {},
   "outputs": [
    {
     "name": "stderr",
     "output_type": "stream",
     "text": [
      "/home/djordje/anaconda3/lib/python3.8/site-packages/IPython/core/interactiveshell.py:3338: DtypeWarning: Columns (3) have mixed types.Specify dtype option on import or set low_memory=False.\n",
      "  if (await self.run_code(code, result,  async_=asy)):\n"
     ]
    },
    {
     "name": "stdout",
     "output_type": "stream",
     "text": [
      "Training loop started\n",
      "[LightGBM] [Warning] Unknown parameter: class_weight\n",
      "[LightGBM] [Warning] Find whitespaces in feature_names, replace with underlines\n",
      "[LightGBM] [Warning] Unknown parameter: class_weight\n",
      "[LightGBM] [Warning] Auto-choosing row-wise multi-threading, the overhead of testing was 0.097801 seconds.\n",
      "You can set `force_row_wise=true` to remove the overhead.\n",
      "And if memory is not enough, you can set `force_col_wise=true`.\n",
      "[LightGBM] [Info] Total Bins 1541\n",
      "[LightGBM] [Info] Number of data points in the train set: 653906, number of used features: 104\n",
      "[LightGBM] [Info] Start training from score -0.207592\n",
      "[LightGBM] [Info] Start training from score -1.679008\n",
      "[LightGBM] [Info] Start training from score -7.010596\n",
      "[LightGBM] [Info] Start training from score -34.538776\n",
      "[LightGBM] [Info] Start training from score -34.538776\n",
      "[LightGBM] [Info] Start training from score -34.538776\n",
      "Training loop ended\n"
     ]
    },
    {
     "data": {
      "text/plain": [
       "LGBM(model=<lightgbm.basic.Booster object at 0x7f858a642ee0>, num_class=6)"
      ]
     },
     "execution_count": 3,
     "metadata": {},
     "output_type": "execute_result"
    }
   ],
   "source": [
    "x, x_test, y, y_test = dataset.clean_and_encode_data()\n",
    "\n",
    "model = LGBM(num_class=len(CATEGORICAL_FEATURES))\n",
    "model.fit(x, y)"
   ]
  },
  {
   "cell_type": "code",
   "execution_count": 4,
   "metadata": {},
   "outputs": [
    {
     "name": "stdout",
     "output_type": "stream",
     "text": [
      "Accuracy: \n",
      " 0.8085662771653109 \n",
      " F1: \n",
      " 0.8085662771653109 \n",
      " F1_2: \n",
      " 0.7242909186534706 \n",
      " Classification report: \n",
      "               precision    recall  f1-score   support\n",
      "\n",
      "           0       0.81      1.00      0.89     58840\n",
      "           1       0.50      0.00      0.00     13745\n",
      "           2       0.00      0.00      0.00        72\n",
      "\n",
      "    accuracy                           0.81     72657\n",
      "   macro avg       0.44      0.33      0.30     72657\n",
      "weighted avg       0.75      0.81      0.72     72657\n",
      "\n"
     ]
    }
   ],
   "source": [
    "model.classification_report(x_test, y_test)"
   ]
  },
  {
   "cell_type": "code",
   "execution_count": 5,
   "metadata": {},
   "outputs": [
    {
     "name": "stdout",
     "output_type": "stream",
     "text": [
      "[1394 1389  633  575  331  456  499  434  677  139  580  178  153  120\n",
      "  143  947  261  244  251    8   49   61   39   11   10   23   32   15\n",
      "   16   22   19   38   24   28   22   20   31   18   16   21   28   33\n",
      "    0   36   10    0    0   27   13   14    0    2    0    8    0    1\n",
      "    0    0    0   10    2    0    0   23    6    3    6    0    9    0\n",
      "    0   51   24   26   10    3   14    1    0   17    0    0    3    0\n",
      "    0    0    0    0   10    0    4    0    5    0    5    0    5    0\n",
      "    9    5   28   17   33   19   28   76   26   80   79   46   18]\n"
     ]
    },
    {
     "data": {
      "image/png": "[encoded data removed]",
      "text/plain": [
       "<Figure size 432x288 with 1 Axes>"
      ]
     },
     "metadata": {
      "needs_background": "light"
     },
     "output_type": "display_data"
    }
   ],
   "source": [
    "print(model.feature_importances_())"
   ]
  }
 ],
 "metadata": {
  "kernelspec": {
   "display_name": "Python 3",
   "language": "python",
   "name": "python3"
  },
  "language_info": {
   "codemirror_mode": {
    "name": "ipython",
    "version": 3
   },
   "file_extension": ".py",
   "mimetype": "text/x-python",
   "name": "python",
   "nbconvert_exporter": "python",
   "pygments_lexer": "ipython3",
   "version": "3.8.5"
  }
 },
 "nbformat": 4,
 "nbformat_minor": 4
}
