{
 "cells": [
  {
   "cell_type": "code",
   "execution_count": 1,
   "metadata": {},
   "outputs": [],
   "source": [
    "import numpy as np\n",
    "import pandas as pd\n",
    "import matplotlib.pyplot as plt\n",
    "import seaborn as sns\n",
    "%matplotlib inline\n"
   ]
  },
  {
   "cell_type": "code",
   "execution_count": 2,
   "metadata": {
    "pycharm": {
     "name": "#%%\n"
    }
   },
   "outputs": [],
   "source": [
    "def bar_plot_column(df, name):\n",
    "    plt.figure(figsize = (8,10))\n",
    "    sns.countplot(y=name, data=df, order=df[name].value_counts().index)\n",
    "    plt.title('Count of ' + name)\n",
    "    plt.ylabel(name)\n",
    "    plt.xlabel('Count')\n",
    "    plt.show()\n"
   ]
  },
  {
   "cell_type": "code",
   "execution_count": 3,
   "metadata": {
    "pycharm": {
     "name": "#%%\n"
    }
   },
   "outputs": [
    {
     "name": "stderr",
     "output_type": "stream",
     "text": [
      "/home/djordje/anaconda3/lib/python3.8/site-packages/IPython/core/interactiveshell.py:3146: DtypeWarning: Columns (3) have mixed types.Specify dtype option on import or set low_memory=False.\n",
      "  has_raised = await self.run_ast_nodes(code_ast.body, cell_name,\n"
     ]
    },
    {
     "name": "stdout",
     "output_type": "stream",
     "text": [
      "Dataset Shape:  (727335, 33)\n"
     ]
    }
   ],
   "source": [
    "data = pd.read_csv('../../data/processed/merged_data_2.csv')\n",
    "print('Dataset Shape: ', data.shape)"
   ]
  },
  {
   "cell_type": "code",
   "execution_count": 4,
   "metadata": {
    "pycharm": {
     "name": "#%%\n"
    }
   },
   "outputs": [],
   "source": [
    "data['MINUTE'] = data['CRASH TIME'].apply(lambda x: x.split(':')[1])\n",
    "data['MINUTE'] = data['MINUTE'].astype(int)\n",
    "data['YEAR'] = (data['CRASH DATE'].apply(lambda x: x.split('-')[0])).astype(int)\n",
    "data['MONTH'] = (data['CRASH DATE'].apply(lambda x: x.split('-')[1])).astype(int)\n",
    "data['DOW'] = (data['CRASH DATE'].apply(lambda x: pd.Timestamp(x).dayofweek)).astype(int)\n",
    "data = data.drop(columns=['CRASH DATE', 'CRASH TIME', 'ZIP CODE', 'geometry', 'NonPed', 'Wind',\n",
    "                                  'XFrom', 'YFrom', 'XTo', 'YTo', 'TRUCK_ROUTE_TYPE', 'ON STREET NAME',\n",
    "                                  'MINUTE', 'YEAR'])\n",
    "\n",
    "data = data.dropna()"
   ]
  },
  {
   "cell_type": "code",
   "execution_count": 5,
   "metadata": {
    "pycharm": {
     "name": "#%%\n"
    }
   },
   "outputs": [
    {
     "data": {
      "text/html": [
       "<div>\n",
       "<style scoped>\n",
       "    .dataframe tbody tr th:only-of-type {\n",
       "        vertical-align: middle;\n",
       "    }\n",
       "\n",
       "    .dataframe tbody tr th {\n",
       "        vertical-align: top;\n",
       "    }\n",
       "\n",
       "    .dataframe thead th {\n",
       "        text-align: right;\n",
       "    }\n",
       "</style>\n",
       "<table border=\"1\" class=\"dataframe\">\n",
       "  <thead>\n",
       "    <tr style=\"text-align: right;\">\n",
       "      <th></th>\n",
       "      <th>BOROUGH</th>\n",
       "      <th>LATITUDE</th>\n",
       "      <th>LONGITUDE</th>\n",
       "      <th>HOUR</th>\n",
       "      <th>Temperature</th>\n",
       "      <th>FeelsLike</th>\n",
       "      <th>Dew</th>\n",
       "      <th>Humidity</th>\n",
       "      <th>WindSpeed</th>\n",
       "      <th>Pressure</th>\n",
       "      <th>...</th>\n",
       "      <th>Clouds</th>\n",
       "      <th>SEVERITY</th>\n",
       "      <th>StreetWidth_Min</th>\n",
       "      <th>POSTED_SPEED</th>\n",
       "      <th>Snow_Priority</th>\n",
       "      <th>Number_Travel_Lanes</th>\n",
       "      <th>Number_Park_Lanes</th>\n",
       "      <th>Number_Total_Lanes</th>\n",
       "      <th>MONTH</th>\n",
       "      <th>DOW</th>\n",
       "    </tr>\n",
       "  </thead>\n",
       "  <tbody>\n",
       "    <tr>\n",
       "      <th>0</th>\n",
       "      <td>MANHATTAN</td>\n",
       "      <td>40.70983</td>\n",
       "      <td>-74.01468</td>\n",
       "      <td>20</td>\n",
       "      <td>43</td>\n",
       "      <td>35.0</td>\n",
       "      <td>31.0</td>\n",
       "      <td>62</td>\n",
       "      <td>17.0</td>\n",
       "      <td>29.50</td>\n",
       "      <td>...</td>\n",
       "      <td>FEW</td>\n",
       "      <td>0</td>\n",
       "      <td>26.0</td>\n",
       "      <td>30</td>\n",
       "      <td>C</td>\n",
       "      <td>2</td>\n",
       "      <td>0</td>\n",
       "      <td>2</td>\n",
       "      <td>11</td>\n",
       "      <td>6</td>\n",
       "    </tr>\n",
       "    <tr>\n",
       "      <th>1</th>\n",
       "      <td>MANHATTAN</td>\n",
       "      <td>40.70983</td>\n",
       "      <td>-74.01468</td>\n",
       "      <td>18</td>\n",
       "      <td>67</td>\n",
       "      <td>67.0</td>\n",
       "      <td>51.0</td>\n",
       "      <td>57</td>\n",
       "      <td>10.0</td>\n",
       "      <td>30.21</td>\n",
       "      <td>...</td>\n",
       "      <td>OVC</td>\n",
       "      <td>0</td>\n",
       "      <td>26.0</td>\n",
       "      <td>30</td>\n",
       "      <td>C</td>\n",
       "      <td>2</td>\n",
       "      <td>0</td>\n",
       "      <td>2</td>\n",
       "      <td>9</td>\n",
       "      <td>0</td>\n",
       "    </tr>\n",
       "    <tr>\n",
       "      <th>2</th>\n",
       "      <td>MANHATTAN</td>\n",
       "      <td>40.70983</td>\n",
       "      <td>-74.01468</td>\n",
       "      <td>21</td>\n",
       "      <td>74</td>\n",
       "      <td>74.0</td>\n",
       "      <td>56.0</td>\n",
       "      <td>53</td>\n",
       "      <td>7.0</td>\n",
       "      <td>30.00</td>\n",
       "      <td>...</td>\n",
       "      <td>SCT</td>\n",
       "      <td>0</td>\n",
       "      <td>26.0</td>\n",
       "      <td>30</td>\n",
       "      <td>C</td>\n",
       "      <td>2</td>\n",
       "      <td>0</td>\n",
       "      <td>2</td>\n",
       "      <td>9</td>\n",
       "      <td>1</td>\n",
       "    </tr>\n",
       "    <tr>\n",
       "      <th>3</th>\n",
       "      <td>MANHATTAN</td>\n",
       "      <td>40.70983</td>\n",
       "      <td>-74.01468</td>\n",
       "      <td>18</td>\n",
       "      <td>74</td>\n",
       "      <td>74.0</td>\n",
       "      <td>66.0</td>\n",
       "      <td>76</td>\n",
       "      <td>13.0</td>\n",
       "      <td>30.14</td>\n",
       "      <td>...</td>\n",
       "      <td>OVC</td>\n",
       "      <td>0</td>\n",
       "      <td>26.0</td>\n",
       "      <td>30</td>\n",
       "      <td>C</td>\n",
       "      <td>2</td>\n",
       "      <td>0</td>\n",
       "      <td>2</td>\n",
       "      <td>9</td>\n",
       "      <td>5</td>\n",
       "    </tr>\n",
       "    <tr>\n",
       "      <th>4</th>\n",
       "      <td>MANHATTAN</td>\n",
       "      <td>40.70983</td>\n",
       "      <td>-74.01468</td>\n",
       "      <td>8</td>\n",
       "      <td>46</td>\n",
       "      <td>40.0</td>\n",
       "      <td>38.0</td>\n",
       "      <td>73</td>\n",
       "      <td>15.0</td>\n",
       "      <td>29.67</td>\n",
       "      <td>...</td>\n",
       "      <td>OVC</td>\n",
       "      <td>0</td>\n",
       "      <td>26.0</td>\n",
       "      <td>30</td>\n",
       "      <td>C</td>\n",
       "      <td>2</td>\n",
       "      <td>0</td>\n",
       "      <td>2</td>\n",
       "      <td>4</td>\n",
       "      <td>3</td>\n",
       "    </tr>\n",
       "  </tbody>\n",
       "</table>\n",
       "<p>5 rows × 23 columns</p>\n",
       "</div>"
      ],
      "text/plain": [
       "     BOROUGH  LATITUDE  LONGITUDE  HOUR  Temperature  FeelsLike   Dew  \\\n",
       "0  MANHATTAN  40.70983  -74.01468    20           43       35.0  31.0   \n",
       "1  MANHATTAN  40.70983  -74.01468    18           67       67.0  51.0   \n",
       "2  MANHATTAN  40.70983  -74.01468    21           74       74.0  56.0   \n",
       "3  MANHATTAN  40.70983  -74.01468    18           74       74.0  66.0   \n",
       "4  MANHATTAN  40.70983  -74.01468     8           46       40.0  38.0   \n",
       "\n",
       "   Humidity  WindSpeed  Pressure  ...  Clouds SEVERITY StreetWidth_Min  \\\n",
       "0        62       17.0     29.50  ...     FEW        0            26.0   \n",
       "1        57       10.0     30.21  ...     OVC        0            26.0   \n",
       "2        53        7.0     30.00  ...     SCT        0            26.0   \n",
       "3        76       13.0     30.14  ...     OVC        0            26.0   \n",
       "4        73       15.0     29.67  ...     OVC        0            26.0   \n",
       "\n",
       "  POSTED_SPEED  Snow_Priority  Number_Travel_Lanes  Number_Park_Lanes  \\\n",
       "0           30              C                    2                  0   \n",
       "1           30              C                    2                  0   \n",
       "2           30              C                    2                  0   \n",
       "3           30              C                    2                  0   \n",
       "4           30              C                    2                  0   \n",
       "\n",
       "  Number_Total_Lanes  MONTH  DOW  \n",
       "0                  2     11    6  \n",
       "1                  2      9    0  \n",
       "2                  2      9    1  \n",
       "3                  2      9    5  \n",
       "4                  2      4    3  \n",
       "\n",
       "[5 rows x 23 columns]"
      ]
     },
     "execution_count": 5,
     "metadata": {},
     "output_type": "execute_result"
    }
   ],
   "source": [
    "data.head()"
   ]
  },
  {
   "cell_type": "code",
   "execution_count": 16,
   "metadata": {},
   "outputs": [
    {
     "data": {
      "text/plain": [
       "12"
      ]
     },
     "execution_count": 16,
     "metadata": {},
     "output_type": "execute_result"
    }
   ],
   "source": [
    "np.min(data['Humidity'])"
   ]
  },
  {
   "cell_type": "code",
   "execution_count": 14,
   "metadata": {
    "pycharm": {
     "name": "#%%\n"
    }
   },
   "outputs": [
    {
     "data": {
      "image/png": "[encoded data removed]",
      "text/plain": [
       "<Figure size 576x720 with 1 Axes>"
      ]
     },
     "metadata": {
      "needs_background": "light"
     },
     "output_type": "display_data"
    }
   ],
   "source": [
    "bar_plot_column(data, 'Humidity')"
   ]
  }
 ],
 "metadata": {
  "kernelspec": {
   "display_name": "Python 3",
   "language": "python",
   "name": "python3"
  },
  "language_info": {
   "codemirror_mode": {
    "name": "ipython",
    "version": 3
   },
   "file_extension": ".py",
   "mimetype": "text/x-python",
   "name": "python",
   "nbconvert_exporter": "python",
   "pygments_lexer": "ipython3",
   "version": "3.8.5"
  }
 },
 "nbformat": 4,
 "nbformat_minor": 1
}
